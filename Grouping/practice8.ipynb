{
  "cells": [
    {
      "cell_type": "markdown",
      "metadata": {
        "id": "8kHxSu6Ia7Cc"
      },
      "source": [
        "# Occupation"
      ]
    },
    {
      "cell_type": "markdown",
      "metadata": {
        "id": "pkuUpzOHa7Ci"
      },
      "source": [
        "### Introduction:\n",
        "\n",
        "Special thanks to: https://github.com/justmarkham for sharing the dataset and materials.\n",
        "\n",
        "### Step 1. Import the necessary libraries"
      ]
    },
    {
      "cell_type": "code",
      "execution_count": 2,
      "metadata": {
        "id": "ez_qjOvXa7Ck"
      },
      "outputs": [],
      "source": [
        "import pandas as pd "
      ]
    },
    {
      "cell_type": "markdown",
      "metadata": {
        "id": "2aYiLkJqa7Cl"
      },
      "source": [
        "### Step 2. Import the dataset from this [address](https://raw.githubusercontent.com/justmarkham/DAT8/master/data/u.user). "
      ]
    },
    {
      "cell_type": "markdown",
      "metadata": {
        "id": "ddKnNoW9a7Cl"
      },
      "source": [
        "### Step 3. Assign it to a variable called users."
      ]
    },
    {
      "cell_type": "code",
      "execution_count": 3,
      "metadata": {
        "colab": {
          "base_uri": "https://localhost:8080/",
          "height": 423
        },
        "id": "8jZdYp10a7Cm",
        "outputId": "8f51d5d3-5f70-4ae8-bb4b-07f6f75255c2"
      },
      "outputs": [
        {
          "output_type": "execute_result",
          "data": {
            "text/plain": [
              "     user_id  age gender     occupation zip_code\n",
              "0          1   24      M     technician    85711\n",
              "1          2   53      F          other    94043\n",
              "2          3   23      M         writer    32067\n",
              "3          4   24      M     technician    43537\n",
              "4          5   33      F          other    15213\n",
              "..       ...  ...    ...            ...      ...\n",
              "938      939   26      F        student    33319\n",
              "939      940   32      M  administrator    02215\n",
              "940      941   20      M        student    97229\n",
              "941      942   48      F      librarian    78209\n",
              "942      943   22      M        student    77841\n",
              "\n",
              "[943 rows x 5 columns]"
            ],
            "text/html": [
              "\n",
              "  <div id=\"df-da02cea4-4655-429d-9ed9-a64ff2cad6b6\">\n",
              "    <div class=\"colab-df-container\">\n",
              "      <div>\n",
              "<style scoped>\n",
              "    .dataframe tbody tr th:only-of-type {\n",
              "        vertical-align: middle;\n",
              "    }\n",
              "\n",
              "    .dataframe tbody tr th {\n",
              "        vertical-align: top;\n",
              "    }\n",
              "\n",
              "    .dataframe thead th {\n",
              "        text-align: right;\n",
              "    }\n",
              "</style>\n",
              "<table border=\"1\" class=\"dataframe\">\n",
              "  <thead>\n",
              "    <tr style=\"text-align: right;\">\n",
              "      <th></th>\n",
              "      <th>user_id</th>\n",
              "      <th>age</th>\n",
              "      <th>gender</th>\n",
              "      <th>occupation</th>\n",
              "      <th>zip_code</th>\n",
              "    </tr>\n",
              "  </thead>\n",
              "  <tbody>\n",
              "    <tr>\n",
              "      <th>0</th>\n",
              "      <td>1</td>\n",
              "      <td>24</td>\n",
              "      <td>M</td>\n",
              "      <td>technician</td>\n",
              "      <td>85711</td>\n",
              "    </tr>\n",
              "    <tr>\n",
              "      <th>1</th>\n",
              "      <td>2</td>\n",
              "      <td>53</td>\n",
              "      <td>F</td>\n",
              "      <td>other</td>\n",
              "      <td>94043</td>\n",
              "    </tr>\n",
              "    <tr>\n",
              "      <th>2</th>\n",
              "      <td>3</td>\n",
              "      <td>23</td>\n",
              "      <td>M</td>\n",
              "      <td>writer</td>\n",
              "      <td>32067</td>\n",
              "    </tr>\n",
              "    <tr>\n",
              "      <th>3</th>\n",
              "      <td>4</td>\n",
              "      <td>24</td>\n",
              "      <td>M</td>\n",
              "      <td>technician</td>\n",
              "      <td>43537</td>\n",
              "    </tr>\n",
              "    <tr>\n",
              "      <th>4</th>\n",
              "      <td>5</td>\n",
              "      <td>33</td>\n",
              "      <td>F</td>\n",
              "      <td>other</td>\n",
              "      <td>15213</td>\n",
              "    </tr>\n",
              "    <tr>\n",
              "      <th>...</th>\n",
              "      <td>...</td>\n",
              "      <td>...</td>\n",
              "      <td>...</td>\n",
              "      <td>...</td>\n",
              "      <td>...</td>\n",
              "    </tr>\n",
              "    <tr>\n",
              "      <th>938</th>\n",
              "      <td>939</td>\n",
              "      <td>26</td>\n",
              "      <td>F</td>\n",
              "      <td>student</td>\n",
              "      <td>33319</td>\n",
              "    </tr>\n",
              "    <tr>\n",
              "      <th>939</th>\n",
              "      <td>940</td>\n",
              "      <td>32</td>\n",
              "      <td>M</td>\n",
              "      <td>administrator</td>\n",
              "      <td>02215</td>\n",
              "    </tr>\n",
              "    <tr>\n",
              "      <th>940</th>\n",
              "      <td>941</td>\n",
              "      <td>20</td>\n",
              "      <td>M</td>\n",
              "      <td>student</td>\n",
              "      <td>97229</td>\n",
              "    </tr>\n",
              "    <tr>\n",
              "      <th>941</th>\n",
              "      <td>942</td>\n",
              "      <td>48</td>\n",
              "      <td>F</td>\n",
              "      <td>librarian</td>\n",
              "      <td>78209</td>\n",
              "    </tr>\n",
              "    <tr>\n",
              "      <th>942</th>\n",
              "      <td>943</td>\n",
              "      <td>22</td>\n",
              "      <td>M</td>\n",
              "      <td>student</td>\n",
              "      <td>77841</td>\n",
              "    </tr>\n",
              "  </tbody>\n",
              "</table>\n",
              "<p>943 rows × 5 columns</p>\n",
              "</div>\n",
              "      <button class=\"colab-df-convert\" onclick=\"convertToInteractive('df-da02cea4-4655-429d-9ed9-a64ff2cad6b6')\"\n",
              "              title=\"Convert this dataframe to an interactive table.\"\n",
              "              style=\"display:none;\">\n",
              "        \n",
              "  <svg xmlns=\"http://www.w3.org/2000/svg\" height=\"24px\"viewBox=\"0 0 24 24\"\n",
              "       width=\"24px\">\n",
              "    <path d=\"M0 0h24v24H0V0z\" fill=\"none\"/>\n",
              "    <path d=\"M18.56 5.44l.94 2.06.94-2.06 2.06-.94-2.06-.94-.94-2.06-.94 2.06-2.06.94zm-11 1L8.5 8.5l.94-2.06 2.06-.94-2.06-.94L8.5 2.5l-.94 2.06-2.06.94zm10 10l.94 2.06.94-2.06 2.06-.94-2.06-.94-.94-2.06-.94 2.06-2.06.94z\"/><path d=\"M17.41 7.96l-1.37-1.37c-.4-.4-.92-.59-1.43-.59-.52 0-1.04.2-1.43.59L10.3 9.45l-7.72 7.72c-.78.78-.78 2.05 0 2.83L4 21.41c.39.39.9.59 1.41.59.51 0 1.02-.2 1.41-.59l7.78-7.78 2.81-2.81c.8-.78.8-2.07 0-2.86zM5.41 20L4 18.59l7.72-7.72 1.47 1.35L5.41 20z\"/>\n",
              "  </svg>\n",
              "      </button>\n",
              "      \n",
              "  <style>\n",
              "    .colab-df-container {\n",
              "      display:flex;\n",
              "      flex-wrap:wrap;\n",
              "      gap: 12px;\n",
              "    }\n",
              "\n",
              "    .colab-df-convert {\n",
              "      background-color: #E8F0FE;\n",
              "      border: none;\n",
              "      border-radius: 50%;\n",
              "      cursor: pointer;\n",
              "      display: none;\n",
              "      fill: #1967D2;\n",
              "      height: 32px;\n",
              "      padding: 0 0 0 0;\n",
              "      width: 32px;\n",
              "    }\n",
              "\n",
              "    .colab-df-convert:hover {\n",
              "      background-color: #E2EBFA;\n",
              "      box-shadow: 0px 1px 2px rgba(60, 64, 67, 0.3), 0px 1px 3px 1px rgba(60, 64, 67, 0.15);\n",
              "      fill: #174EA6;\n",
              "    }\n",
              "\n",
              "    [theme=dark] .colab-df-convert {\n",
              "      background-color: #3B4455;\n",
              "      fill: #D2E3FC;\n",
              "    }\n",
              "\n",
              "    [theme=dark] .colab-df-convert:hover {\n",
              "      background-color: #434B5C;\n",
              "      box-shadow: 0px 1px 3px 1px rgba(0, 0, 0, 0.15);\n",
              "      filter: drop-shadow(0px 1px 2px rgba(0, 0, 0, 0.3));\n",
              "      fill: #FFFFFF;\n",
              "    }\n",
              "  </style>\n",
              "\n",
              "      <script>\n",
              "        const buttonEl =\n",
              "          document.querySelector('#df-da02cea4-4655-429d-9ed9-a64ff2cad6b6 button.colab-df-convert');\n",
              "        buttonEl.style.display =\n",
              "          google.colab.kernel.accessAllowed ? 'block' : 'none';\n",
              "\n",
              "        async function convertToInteractive(key) {\n",
              "          const element = document.querySelector('#df-da02cea4-4655-429d-9ed9-a64ff2cad6b6');\n",
              "          const dataTable =\n",
              "            await google.colab.kernel.invokeFunction('convertToInteractive',\n",
              "                                                     [key], {});\n",
              "          if (!dataTable) return;\n",
              "\n",
              "          const docLinkHtml = 'Like what you see? Visit the ' +\n",
              "            '<a target=\"_blank\" href=https://colab.research.google.com/notebooks/data_table.ipynb>data table notebook</a>'\n",
              "            + ' to learn more about interactive tables.';\n",
              "          element.innerHTML = '';\n",
              "          dataTable['output_type'] = 'display_data';\n",
              "          await google.colab.output.renderOutput(dataTable, element);\n",
              "          const docLink = document.createElement('div');\n",
              "          docLink.innerHTML = docLinkHtml;\n",
              "          element.appendChild(docLink);\n",
              "        }\n",
              "      </script>\n",
              "    </div>\n",
              "  </div>\n",
              "  "
            ]
          },
          "metadata": {},
          "execution_count": 3
        }
      ],
      "source": [
        "users = pd.read_csv('https://raw.githubusercontent.com/justmarkham/DAT8/master/data/u.user', sep=\"|\")\n",
        "users"
      ]
    },
    {
      "cell_type": "markdown",
      "metadata": {
        "id": "i8pyugsMa7Cn"
      },
      "source": [
        "### Step 4. Discover what is the mean age per occupation"
      ]
    },
    {
      "cell_type": "code",
      "execution_count": null,
      "metadata": {
        "colab": {
          "base_uri": "https://localhost:8080/"
        },
        "id": "aKkbOsJka7Cn",
        "outputId": "ffcae355-820b-4bd1-d32d-1cdd6d940768"
      },
      "outputs": [
        {
          "output_type": "execute_result",
          "data": {
            "text/plain": [
              "occupation\n",
              "administrator    38.746835\n",
              "artist           31.392857\n",
              "doctor           43.571429\n",
              "educator         42.010526\n",
              "engineer         36.388060\n",
              "entertainment    29.222222\n",
              "executive        38.718750\n",
              "healthcare       41.562500\n",
              "homemaker        32.571429\n",
              "lawyer           36.750000\n",
              "librarian        40.000000\n",
              "marketing        37.615385\n",
              "none             26.555556\n",
              "other            34.523810\n",
              "programmer       33.121212\n",
              "retired          63.071429\n",
              "salesman         35.666667\n",
              "scientist        35.548387\n",
              "student          22.081633\n",
              "technician       33.148148\n",
              "writer           36.311111\n",
              "Name: age, dtype: float64"
            ]
          },
          "metadata": {},
          "execution_count": 10
        }
      ],
      "source": [
        "users.groupby('occupation').mean()['age']"
      ]
    },
    {
      "cell_type": "markdown",
      "metadata": {
        "id": "XgRN0lb6a7Co"
      },
      "source": [
        "### Step 5. Discover the Male ratio per occupation and sort it from the most to the least"
      ]
    },
    {
      "cell_type": "code",
      "execution_count": null,
      "metadata": {
        "colab": {
          "base_uri": "https://localhost:8080/"
        },
        "id": "i4wWK1Ara7Cp",
        "outputId": "f6b9af2d-1585-4374-c7cd-f1e0eb860ca3"
      },
      "outputs": [
        {
          "output_type": "execute_result",
          "data": {
            "text/plain": [
              "occupation\n",
              "student          136\n",
              "other             69\n",
              "educator          69\n",
              "engineer          65\n",
              "programmer        60\n",
              "administrator     43\n",
              "executive         29\n",
              "scientist         28\n",
              "technician        26\n",
              "writer            26\n",
              "librarian         22\n",
              "marketing         16\n",
              "entertainment     16\n",
              "artist            15\n",
              "retired           13\n",
              "lawyer            10\n",
              "salesman           9\n",
              "doctor             7\n",
              "none               5\n",
              "healthcare         5\n",
              "homemaker          1\n",
              "Name: gender, dtype: int64"
            ]
          },
          "metadata": {},
          "execution_count": 33
        }
      ],
      "source": [
        "users[users['gender'] == \"M\"].groupby('occupation').count()['gender'].sort_values(ascending=False)"
      ]
    },
    {
      "cell_type": "markdown",
      "metadata": {
        "id": "bfdS1Rwca7Cq"
      },
      "source": [
        "### Step 6. For each occupation, calculate the minimum and maximum ages"
      ]
    },
    {
      "cell_type": "code",
      "execution_count": null,
      "metadata": {
        "colab": {
          "base_uri": "https://localhost:8080/",
          "height": 739
        },
        "id": "NaOqiDRKa7Cr",
        "outputId": "3c3d0293-c3bf-4dee-9ab2-307b902fce2a"
      },
      "outputs": [
        {
          "output_type": "execute_result",
          "data": {
            "text/plain": [
              "               max  min\n",
              "occupation             \n",
              "administrator   70   21\n",
              "artist          48   19\n",
              "doctor          64   28\n",
              "educator        63   23\n",
              "engineer        70   22\n",
              "entertainment   50   15\n",
              "executive       69   22\n",
              "healthcare      62   22\n",
              "homemaker       50   20\n",
              "lawyer          53   21\n",
              "librarian       69   23\n",
              "marketing       55   24\n",
              "none            55   11\n",
              "other           64   13\n",
              "programmer      63   20\n",
              "retired         73   51\n",
              "salesman        66   18\n",
              "scientist       55   23\n",
              "student         42    7\n",
              "technician      55   21\n",
              "writer          60   18"
            ],
            "text/html": [
              "\n",
              "  <div id=\"df-36ed1dda-9b30-4351-9104-de1dfa8a1a50\">\n",
              "    <div class=\"colab-df-container\">\n",
              "      <div>\n",
              "<style scoped>\n",
              "    .dataframe tbody tr th:only-of-type {\n",
              "        vertical-align: middle;\n",
              "    }\n",
              "\n",
              "    .dataframe tbody tr th {\n",
              "        vertical-align: top;\n",
              "    }\n",
              "\n",
              "    .dataframe thead th {\n",
              "        text-align: right;\n",
              "    }\n",
              "</style>\n",
              "<table border=\"1\" class=\"dataframe\">\n",
              "  <thead>\n",
              "    <tr style=\"text-align: right;\">\n",
              "      <th></th>\n",
              "      <th>max</th>\n",
              "      <th>min</th>\n",
              "    </tr>\n",
              "    <tr>\n",
              "      <th>occupation</th>\n",
              "      <th></th>\n",
              "      <th></th>\n",
              "    </tr>\n",
              "  </thead>\n",
              "  <tbody>\n",
              "    <tr>\n",
              "      <th>administrator</th>\n",
              "      <td>70</td>\n",
              "      <td>21</td>\n",
              "    </tr>\n",
              "    <tr>\n",
              "      <th>artist</th>\n",
              "      <td>48</td>\n",
              "      <td>19</td>\n",
              "    </tr>\n",
              "    <tr>\n",
              "      <th>doctor</th>\n",
              "      <td>64</td>\n",
              "      <td>28</td>\n",
              "    </tr>\n",
              "    <tr>\n",
              "      <th>educator</th>\n",
              "      <td>63</td>\n",
              "      <td>23</td>\n",
              "    </tr>\n",
              "    <tr>\n",
              "      <th>engineer</th>\n",
              "      <td>70</td>\n",
              "      <td>22</td>\n",
              "    </tr>\n",
              "    <tr>\n",
              "      <th>entertainment</th>\n",
              "      <td>50</td>\n",
              "      <td>15</td>\n",
              "    </tr>\n",
              "    <tr>\n",
              "      <th>executive</th>\n",
              "      <td>69</td>\n",
              "      <td>22</td>\n",
              "    </tr>\n",
              "    <tr>\n",
              "      <th>healthcare</th>\n",
              "      <td>62</td>\n",
              "      <td>22</td>\n",
              "    </tr>\n",
              "    <tr>\n",
              "      <th>homemaker</th>\n",
              "      <td>50</td>\n",
              "      <td>20</td>\n",
              "    </tr>\n",
              "    <tr>\n",
              "      <th>lawyer</th>\n",
              "      <td>53</td>\n",
              "      <td>21</td>\n",
              "    </tr>\n",
              "    <tr>\n",
              "      <th>librarian</th>\n",
              "      <td>69</td>\n",
              "      <td>23</td>\n",
              "    </tr>\n",
              "    <tr>\n",
              "      <th>marketing</th>\n",
              "      <td>55</td>\n",
              "      <td>24</td>\n",
              "    </tr>\n",
              "    <tr>\n",
              "      <th>none</th>\n",
              "      <td>55</td>\n",
              "      <td>11</td>\n",
              "    </tr>\n",
              "    <tr>\n",
              "      <th>other</th>\n",
              "      <td>64</td>\n",
              "      <td>13</td>\n",
              "    </tr>\n",
              "    <tr>\n",
              "      <th>programmer</th>\n",
              "      <td>63</td>\n",
              "      <td>20</td>\n",
              "    </tr>\n",
              "    <tr>\n",
              "      <th>retired</th>\n",
              "      <td>73</td>\n",
              "      <td>51</td>\n",
              "    </tr>\n",
              "    <tr>\n",
              "      <th>salesman</th>\n",
              "      <td>66</td>\n",
              "      <td>18</td>\n",
              "    </tr>\n",
              "    <tr>\n",
              "      <th>scientist</th>\n",
              "      <td>55</td>\n",
              "      <td>23</td>\n",
              "    </tr>\n",
              "    <tr>\n",
              "      <th>student</th>\n",
              "      <td>42</td>\n",
              "      <td>7</td>\n",
              "    </tr>\n",
              "    <tr>\n",
              "      <th>technician</th>\n",
              "      <td>55</td>\n",
              "      <td>21</td>\n",
              "    </tr>\n",
              "    <tr>\n",
              "      <th>writer</th>\n",
              "      <td>60</td>\n",
              "      <td>18</td>\n",
              "    </tr>\n",
              "  </tbody>\n",
              "</table>\n",
              "</div>\n",
              "      <button class=\"colab-df-convert\" onclick=\"convertToInteractive('df-36ed1dda-9b30-4351-9104-de1dfa8a1a50')\"\n",
              "              title=\"Convert this dataframe to an interactive table.\"\n",
              "              style=\"display:none;\">\n",
              "        \n",
              "  <svg xmlns=\"http://www.w3.org/2000/svg\" height=\"24px\"viewBox=\"0 0 24 24\"\n",
              "       width=\"24px\">\n",
              "    <path d=\"M0 0h24v24H0V0z\" fill=\"none\"/>\n",
              "    <path d=\"M18.56 5.44l.94 2.06.94-2.06 2.06-.94-2.06-.94-.94-2.06-.94 2.06-2.06.94zm-11 1L8.5 8.5l.94-2.06 2.06-.94-2.06-.94L8.5 2.5l-.94 2.06-2.06.94zm10 10l.94 2.06.94-2.06 2.06-.94-2.06-.94-.94-2.06-.94 2.06-2.06.94z\"/><path d=\"M17.41 7.96l-1.37-1.37c-.4-.4-.92-.59-1.43-.59-.52 0-1.04.2-1.43.59L10.3 9.45l-7.72 7.72c-.78.78-.78 2.05 0 2.83L4 21.41c.39.39.9.59 1.41.59.51 0 1.02-.2 1.41-.59l7.78-7.78 2.81-2.81c.8-.78.8-2.07 0-2.86zM5.41 20L4 18.59l7.72-7.72 1.47 1.35L5.41 20z\"/>\n",
              "  </svg>\n",
              "      </button>\n",
              "      \n",
              "  <style>\n",
              "    .colab-df-container {\n",
              "      display:flex;\n",
              "      flex-wrap:wrap;\n",
              "      gap: 12px;\n",
              "    }\n",
              "\n",
              "    .colab-df-convert {\n",
              "      background-color: #E8F0FE;\n",
              "      border: none;\n",
              "      border-radius: 50%;\n",
              "      cursor: pointer;\n",
              "      display: none;\n",
              "      fill: #1967D2;\n",
              "      height: 32px;\n",
              "      padding: 0 0 0 0;\n",
              "      width: 32px;\n",
              "    }\n",
              "\n",
              "    .colab-df-convert:hover {\n",
              "      background-color: #E2EBFA;\n",
              "      box-shadow: 0px 1px 2px rgba(60, 64, 67, 0.3), 0px 1px 3px 1px rgba(60, 64, 67, 0.15);\n",
              "      fill: #174EA6;\n",
              "    }\n",
              "\n",
              "    [theme=dark] .colab-df-convert {\n",
              "      background-color: #3B4455;\n",
              "      fill: #D2E3FC;\n",
              "    }\n",
              "\n",
              "    [theme=dark] .colab-df-convert:hover {\n",
              "      background-color: #434B5C;\n",
              "      box-shadow: 0px 1px 3px 1px rgba(0, 0, 0, 0.15);\n",
              "      filter: drop-shadow(0px 1px 2px rgba(0, 0, 0, 0.3));\n",
              "      fill: #FFFFFF;\n",
              "    }\n",
              "  </style>\n",
              "\n",
              "      <script>\n",
              "        const buttonEl =\n",
              "          document.querySelector('#df-36ed1dda-9b30-4351-9104-de1dfa8a1a50 button.colab-df-convert');\n",
              "        buttonEl.style.display =\n",
              "          google.colab.kernel.accessAllowed ? 'block' : 'none';\n",
              "\n",
              "        async function convertToInteractive(key) {\n",
              "          const element = document.querySelector('#df-36ed1dda-9b30-4351-9104-de1dfa8a1a50');\n",
              "          const dataTable =\n",
              "            await google.colab.kernel.invokeFunction('convertToInteractive',\n",
              "                                                     [key], {});\n",
              "          if (!dataTable) return;\n",
              "\n",
              "          const docLinkHtml = 'Like what you see? Visit the ' +\n",
              "            '<a target=\"_blank\" href=https://colab.research.google.com/notebooks/data_table.ipynb>data table notebook</a>'\n",
              "            + ' to learn more about interactive tables.';\n",
              "          element.innerHTML = '';\n",
              "          dataTable['output_type'] = 'display_data';\n",
              "          await google.colab.output.renderOutput(dataTable, element);\n",
              "          const docLink = document.createElement('div');\n",
              "          docLink.innerHTML = docLinkHtml;\n",
              "          element.appendChild(docLink);\n",
              "        }\n",
              "      </script>\n",
              "    </div>\n",
              "  </div>\n",
              "  "
            ]
          },
          "metadata": {},
          "execution_count": 36
        }
      ],
      "source": [
        "users.groupby('occupation').agg(['max','min'])['age']"
      ]
    },
    {
      "cell_type": "markdown",
      "metadata": {
        "id": "ozomp5n-a7Cr"
      },
      "source": [
        "### Step 7. For each combination of occupation and gender, calculate the mean age"
      ]
    },
    {
      "cell_type": "code",
      "execution_count": null,
      "metadata": {
        "id": "Y8Cm-FBua7Cs",
        "colab": {
          "base_uri": "https://localhost:8080/"
        },
        "outputId": "e1f6736d-7c8e-4404-dc7d-42b1db2fc760"
      },
      "outputs": [
        {
          "output_type": "execute_result",
          "data": {
            "text/plain": [
              "occupation     gender\n",
              "administrator  F         40.638889\n",
              "               M         37.162791\n",
              "artist         F         30.307692\n",
              "               M         32.333333\n",
              "doctor         M         43.571429\n",
              "educator       F         39.115385\n",
              "               M         43.101449\n",
              "engineer       F         29.500000\n",
              "               M         36.600000\n",
              "entertainment  F         31.000000\n",
              "               M         29.000000\n",
              "executive      F         44.000000\n",
              "               M         38.172414\n",
              "healthcare     F         39.818182\n",
              "               M         45.400000\n",
              "homemaker      F         34.166667\n",
              "               M         23.000000\n",
              "lawyer         F         39.500000\n",
              "               M         36.200000\n",
              "librarian      F         40.000000\n",
              "               M         40.000000\n",
              "marketing      F         37.200000\n",
              "               M         37.875000\n",
              "none           F         36.500000\n",
              "               M         18.600000\n",
              "other          F         35.472222\n",
              "               M         34.028986\n",
              "programmer     F         32.166667\n",
              "               M         33.216667\n",
              "retired        F         70.000000\n",
              "               M         62.538462\n",
              "salesman       F         27.000000\n",
              "               M         38.555556\n",
              "scientist      F         28.333333\n",
              "               M         36.321429\n",
              "student        F         20.750000\n",
              "               M         22.669118\n",
              "technician     F         38.000000\n",
              "               M         32.961538\n",
              "writer         F         37.631579\n",
              "               M         35.346154\n",
              "Name: age, dtype: float64"
            ]
          },
          "metadata": {},
          "execution_count": 40
        }
      ],
      "source": [
        "users.groupby(['occupation','gender']).mean()['age']"
      ]
    },
    {
      "cell_type": "markdown",
      "metadata": {
        "id": "zMnQivhVa7Cs"
      },
      "source": [
        "### Step 8.  For each occupation present the percentage of women and men"
      ]
    },
    {
      "cell_type": "code",
      "execution_count": 9,
      "metadata": {
        "id": "4NBnUE3Ca7Ct",
        "colab": {
          "base_uri": "https://localhost:8080/"
        },
        "outputId": "e888d0d8-e086-4a7e-aa16-9c2477c3f709"
      },
      "outputs": [
        {
          "output_type": "execute_result",
          "data": {
            "text/plain": [
              "occupation     gender\n",
              "administrator  F          45.569620\n",
              "               M          54.430380\n",
              "artist         F          46.428571\n",
              "               M          53.571429\n",
              "doctor         M         100.000000\n",
              "educator       F          27.368421\n",
              "               M          72.631579\n",
              "engineer       F           2.985075\n",
              "               M          97.014925\n",
              "entertainment  F          11.111111\n",
              "               M          88.888889\n",
              "executive      F           9.375000\n",
              "               M          90.625000\n",
              "healthcare     F          68.750000\n",
              "               M          31.250000\n",
              "homemaker      F          85.714286\n",
              "               M          14.285714\n",
              "lawyer         F          16.666667\n",
              "               M          83.333333\n",
              "librarian      F          56.862745\n",
              "               M          43.137255\n",
              "marketing      F          38.461538\n",
              "               M          61.538462\n",
              "none           F          44.444444\n",
              "               M          55.555556\n",
              "other          F          34.285714\n",
              "               M          65.714286\n",
              "programmer     F           9.090909\n",
              "               M          90.909091\n",
              "retired        F           7.142857\n",
              "               M          92.857143\n",
              "salesman       F          25.000000\n",
              "               M          75.000000\n",
              "scientist      F           9.677419\n",
              "               M          90.322581\n",
              "student        F          30.612245\n",
              "               M          69.387755\n",
              "technician     F           3.703704\n",
              "               M          96.296296\n",
              "writer         F          42.222222\n",
              "               M          57.777778\n",
              "Name: gender, dtype: float64"
            ]
          },
          "metadata": {},
          "execution_count": 9
        }
      ],
      "source": [
        "gender_ocup = users.groupby(['occupation', 'gender']).agg({'gender': 'count'})\n",
        "occup_count = users.groupby(['occupation']).count()\n",
        "occup_gender = gender_ocup.div(occup_count, level = \"occupation\") * 100\n",
        "df = occup_gender.loc[:, 'gender']\n",
        "df"
      ]
    }
  ],
  "metadata": {
    "kernelspec": {
      "display_name": "Python 2",
      "language": "python",
      "name": "python2"
    },
    "language_info": {
      "codemirror_mode": {
        "name": "ipython",
        "version": 2
      },
      "file_extension": ".py",
      "mimetype": "text/x-python",
      "name": "python",
      "nbconvert_exporter": "python",
      "pygments_lexer": "ipython2",
      "version": "2.7.11"
    },
    "colab": {
      "provenance": []
    }
  },
  "nbformat": 4,
  "nbformat_minor": 0
}